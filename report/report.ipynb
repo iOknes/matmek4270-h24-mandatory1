{
 "cells": [
  {
   "cell_type": "markdown",
   "metadata": {},
   "source": [
    "# Report Oblig 1 - Mat-MEK4270 H23\n",
    "\n",
    "\n",
    "## 1.2.1 - The Dirichlet Problem\n",
    "For the numerical implementations, an expression for the dispersion relation $\\omega$ is found by applying the wave equation (Eq 1.2) to the assumed exact solution (1.4). This gives the following:\n",
    "\n",
    "$$ \\frac{\\partial^2 u}{{\\partial t}^2} = c^2 \\nabla^2 u $$\n",
    "$$ \\frac{\\partial^2}{{\\partial t}^2} \\sin(k_x x) \\sin(k_y y) \\cos(\\omega t) = c^2 \\nabla^2 \\sin(k_x x) \\sin(k_y y) \\cos(\\omega t) $$\n",
    "$$ -\\omega^2 \\sin(k_x x) \\sin(k_y y) \\cos(\\omega t) = - c^2 (k_x^2 + k_y^2) \\sin(k_x x) \\sin(k_y y) \\cos(\\omega t) $$\n",
    "$$ \\omega^2 = c^2 (k_x^2 + k_y^2) $$\n",
    "$$ \\omega = c \\sqrt{k_x^2 + k_y^2} $$\n",
    "\n",
    "## 1.2.3 Exact solution\n",
    "Starting with Eq 1.6\n",
    "\n",
    "$$ u(t,x,y) = e^{i(k_x x + k_y y - \\omega t)} $$\n",
    "\n",
    "and the wave equation\n",
    "\n",
    "$$ \\frac{\\partial^2 u}{{\\partial t}^2} = c^2 \\nabla^2 u $$\n",
    "\n",
    "we study each side of the wave equation seperatly, for the sake of simplicity.\n",
    "\n",
    "The left hand side of the equation can be simplified to\n",
    "\n",
    "$$ \\frac{\\partial^2 u}{{\\partial t}^2} = \\frac{\\partial^2}{{\\partial t}^2} e^{i(k_x x + k_y y - \\omega t)} = \\omega^2 e^{i(k_x x + k_y y - \\omega t)} = \\omega^2 u $$\n",
    "\n",
    "The right hand side becomes\n",
    "\n",
    "$$ c^2 \\nabla^2 u = c^2 \\nabla^2 e^{i(k_x x + k_y y - \\omega t)} = c^2 (k_x^2 + k_y^2) e^{i(k_x x + k_y y - \\omega t)} = c^2 (k_x^2 + k_y^2) u $$\n",
    "\n",
    "The resulting expression for the whole equation becomes\n",
    "\n",
    "$$ \\omega^2 u = c^2 (k_x^2 + k_y^2) u $$\n",
    "\n",
    "which, in combination with expression from 1.2.1, means that u is a solution to the wave equation.\n",
    "\n",
    "\n",
    "## 1.2.4 Dispersion coefficient\n"
   ]
  }
 ],
 "metadata": {
  "language_info": {
   "name": "python"
  }
 },
 "nbformat": 4,
 "nbformat_minor": 2
}
